{
 "cells": [
  {
   "cell_type": "markdown",
   "metadata": {},
   "source": [
    "### 书稿中的代码是在TF1.0版本下，现在主流平台已更新到TF2.0，因此代码有微调"
   ]
  },
  {
   "cell_type": "code",
   "execution_count": 1,
   "metadata": {},
   "outputs": [
    {
     "name": "stdout",
     "output_type": "stream",
     "text": [
      "[[[[28.]\n",
      "   [15.]\n",
      "   [19.]]\n",
      "\n",
      "  [[60.]\n",
      "   [34.]\n",
      "   [25.]]\n",
      "\n",
      "  [[42.]\n",
      "   [15.]\n",
      "   [25.]]]]\n"
     ]
    }
   ],
   "source": [
    "#代码示例：8-1\n",
    "import tensorflow as tf\n",
    "tf.compat.v1.disable_eager_execution()\n",
    "X=tf.constant(\n",
    "    [\n",
    "        [\n",
    "            [[3],[-1],[3]],\n",
    "            [[9],[2],[4]],\n",
    "            [[8],[1],[5]]\n",
    "        ]\n",
    "    ]\n",
    "    ,tf.float32\n",
    ")\n",
    "K=tf.constant(\n",
    "    [\n",
    "        [\n",
    "            [[5]],[[2]]],\n",
    "        [\n",
    "            [[1]],[[3]]\n",
    "        ]\n",
    "    ]\n",
    "    ,tf.float32\n",
    ")\n",
    "# same卷积\n",
    "conv=tf.nn.conv2d(X,K,(1,1,1,1),'SAME')\n",
    "session=tf.compat.v1.Session()\n",
    "print(session.run(conv))"
   ]
  },
  {
   "cell_type": "code",
   "execution_count": 7,
   "metadata": {},
   "outputs": [
    {
     "name": "stdout",
     "output_type": "stream",
     "text": [
      "[[[[28.]\n",
      "   [15.]]\n",
      "\n",
      "  [[60.]\n",
      "   [34.]]]]\n"
     ]
    }
   ],
   "source": [
    "#代码示例：8-2\n",
    "import tensorflow as tf\n",
    "X=tf.constant(\n",
    "    [\n",
    "        [\n",
    "            [[3],[-1],[3]],\n",
    "            [[9],[2],[4]],\n",
    "            [[8],[1],[5]]\n",
    "        ]\n",
    "    ]\n",
    "    ,tf.float32\n",
    ")\n",
    "K=tf.constant(\n",
    "    [\n",
    "        [\n",
    "            [[5]],[[2]]],\n",
    "        [\n",
    "            [[1]],[[3]]\n",
    "        ]\n",
    "    ]\n",
    "    ,tf.float32\n",
    ")\n",
    "# valid卷积\n",
    "conv=tf.nn.conv2d(X,K,(1,1,1,1),'VALID')\n",
    "session=tf.compat.v1.Session()\n",
    "print(session.run(conv))"
   ]
  },
  {
   "cell_type": "code",
   "execution_count": 8,
   "metadata": {},
   "outputs": [
    {
     "name": "stdout",
     "output_type": "stream",
     "text": [
      "[[[[80.]\n",
      "   [ 7.]]\n",
      "\n",
      "  [[41.]\n",
      "   [29.]]]]\n"
     ]
    }
   ],
   "source": [
    "#代码示例：8-3\n",
    "import tensorflow as tf\n",
    "X=tf.constant(\n",
    "    [\n",
    "        [\n",
    "            [[3,1],[-1,4],[3,2]],\n",
    "            [[9,7],[2,-1],[4,3]],\n",
    "            [[8,-2,],[1,5],[5,9]]\n",
    "        ]\n",
    "    ]\n",
    "    ,tf.float32\n",
    ")\n",
    "K=tf.constant(\n",
    "    [\n",
    "        [\n",
    "            [[5],[2]],[[2],[1]]],\n",
    "        [\n",
    "            [[1],[6]],[[3],[-4]]\n",
    "        ]\n",
    "    ]\n",
    "    ,tf.float32\n",
    ")\n",
    "# valid卷积\n",
    "conv=tf.nn.conv2d(X,K,(1,1,1,1),'VALID')\n",
    "session=tf.compat.v1.Session()\n",
    "print(session.run(conv))"
   ]
  },
  {
   "cell_type": "code",
   "execution_count": 9,
   "metadata": {},
   "outputs": [
    {
     "name": "stdout",
     "output_type": "stream",
     "text": [
      "[[[[ 80. 101. 112.]\n",
      "   [  7.  32.   3.]]\n",
      "\n",
      "  [[ 41.   3.  63.]\n",
      "   [ 29. 113.  -7.]]]]\n"
     ]
    }
   ],
   "source": [
    "#代码示例：8-4\n",
    "import tensorflow as tf\n",
    "X=tf.constant(\n",
    "    [\n",
    "        [\n",
    "            [[3,1],[-1,4],[3,2]],\n",
    "            [[9,7],[2,-1],[4,3]],\n",
    "            [[8,-2,],[1,5],[5,9]]\n",
    "        ]\n",
    "    ]\n",
    "    ,tf.float32\n",
    ")\n",
    "K=tf.constant(\n",
    "    [\n",
    "        [\n",
    "            [[5,-1,2],[2,-2,1]],[[2,2,-7],[1,5,1]]],\n",
    "        [\n",
    "            [[1,3,8],[6,8,2]],[[3,4,3],[-4,3,-2]]\n",
    "        ]\n",
    "    ]\n",
    "    ,tf.float32\n",
    ")\n",
    "# valid卷积\n",
    "conv=tf.nn.conv2d(X,K,(1,1,1,1),'VALID')\n",
    "session=tf.compat.v1.Session()\n",
    "print(session.run(conv))"
   ]
  },
  {
   "cell_type": "code",
   "execution_count": 10,
   "metadata": {},
   "outputs": [
    {
     "name": "stdout",
     "output_type": "stream",
     "text": [
      "[[[[ 80. 101. 112.]\n",
      "   [  7.  32.   3.]]\n",
      "\n",
      "  [[ 41.   3.  63.]\n",
      "   [ 29. 113.  -7.]]]\n",
      "\n",
      "\n",
      " [[[ 52.  29.  -5.]\n",
      "   [ -3. -18.   2.]]\n",
      "\n",
      "  [[ -2.   6.  26.]\n",
      "   [ 21.  59.  23.]]]]\n"
     ]
    }
   ],
   "source": [
    "#代码示例：8-5\n",
    "import tensorflow as tf\n",
    "\n",
    "X=tf.constant(\n",
    "    [\n",
    "        [\n",
    "            [[3,1],[-1,4],[3,2]],\n",
    "            [[9,7],[2,-1],[4,3]],\n",
    "            [[8,-2,],[1,5],[5,9]]\n",
    "        ],\n",
    "         [\n",
    "            [[1,2],[1,2],[2,-2]],\n",
    "            [[-3,4],[2,-3],[2,1]],\n",
    "            [[5,-1],[3,1],[5,3]]\n",
    "         ]\n",
    "    ]\n",
    "    ,tf.float32\n",
    ")\n",
    "\n",
    "K=tf.constant(\n",
    "    [\n",
    "        [\n",
    "            [[5,-1,2],[2,-2,1]],[[2,2,-7],[1,5,1]]],\n",
    "        [\n",
    "            [[1,3,8],[6,8,2]],[[3,4,3],[-4,3,-2]]\n",
    "        ]\n",
    "    ]\n",
    "    ,tf.float32\n",
    ")\n",
    "# valid卷积\n",
    "conv=tf.nn.conv2d(X,K,(1,1,1,1),'VALID')\n",
    "session=tf.compat.v1.Session()\n",
    "print(session.run(conv))"
   ]
  },
  {
   "cell_type": "code",
   "execution_count": 11,
   "metadata": {},
   "outputs": [
    {
     "name": "stdout",
     "output_type": "stream",
     "text": [
      "[[[[ 28.  52.]\n",
      "   [ 15.  -8.]]\n",
      "\n",
      "  [[ 60. -19.]\n",
      "   [ 34.  -5.]]]]\n"
     ]
    }
   ],
   "source": [
    "#代码示例：8-6\n",
    "import tensorflow as tf\n",
    "X=tf.constant(\n",
    "    [\n",
    "        [\n",
    "            [[3,1],[-1,4],[3,2]],\n",
    "            [[9,7],[2,-1],[4,3]],\n",
    "            [[8,-2,],[1,5],[5,9]]\n",
    "        ]\n",
    "    ]\n",
    "    ,tf.float32\n",
    ")\n",
    "K=tf.constant(\n",
    "    [\n",
    "        [\n",
    "            [[5],[2]],\n",
    "            [[2],[1]]],\n",
    "        [   \n",
    "            [[1],[6]],\n",
    "            [[3],[-4]]]\n",
    "    ]\n",
    "    ,tf.float32\n",
    ")\n",
    "# valid卷积\n",
    "conv=tf.nn.depthwise_conv2d(X,K,(1,1,1,1),'VALID')\n",
    "session=tf.compat.v1.Session()\n",
    "print(session.run(conv))"
   ]
  },
  {
   "cell_type": "code",
   "execution_count": 12,
   "metadata": {},
   "outputs": [
    {
     "name": "stdout",
     "output_type": "stream",
     "text": [
      "[[[[ 28.  30.  91.  52.  71.  21.]\n",
      "   [ 15.  29.   5.  -8.   3.  -2.]]\n",
      "\n",
      "  [[ 60.  23.  71. -19. -20.  -8.]\n",
      "   [ 34.  29.  -1.  -5.  84.  -6.]]]]\n"
     ]
    }
   ],
   "source": [
    "#代码示例：8-7\n",
    "import tensorflow as tf\n",
    "X=tf.constant(\n",
    "    [\n",
    "        [\n",
    "            [[3,1],[-1,4],[3,2]],\n",
    "            [[9,7],[2,-1],[4,3]],\n",
    "            [[8,-2,],[1,5],[5,9]]\n",
    "        ]\n",
    "    ]\n",
    "    ,tf.float32\n",
    ")\n",
    "K=tf.constant(\n",
    "    [\n",
    "        [\n",
    "            [[5,-1,2],\n",
    "             [2,-2,1]],\n",
    "            [[2,2,-7],\n",
    "             [1,5,1]]\n",
    "        ],\n",
    "        [\n",
    "            [[1,3,8],\n",
    "             [6,8,2]],\n",
    "            [[3,4,3],\n",
    "             [-4,3,-2]]\n",
    "        ]\n",
    "    ]\n",
    "    ,tf.float32\n",
    ")\n",
    "# valid卷积\n",
    "conv=tf.nn.depthwise_conv2d(X,K,(1,1,1,1),'VALID')\n",
    "session=tf.compat.v1.Session()\n",
    "print(session.run(conv))"
   ]
  },
  {
   "cell_type": "code",
   "execution_count": 13,
   "metadata": {},
   "outputs": [
    {
     "name": "stdout",
     "output_type": "stream",
     "text": [
      "[[[[ 28.  30.  91.  52.  71.  21.]\n",
      "   [ 15.  29.   5.  -8.   3.  -2.]]\n",
      "\n",
      "  [[ 60.  23.  71. -19. -20.  -8.]\n",
      "   [ 34.  29.  -1.  -5.  84.  -6.]]]]\n"
     ]
    }
   ],
   "source": [
    "#代码示例：8-8\n",
    "import tensorflow as tf\n",
    "X=tf.constant(\n",
    "     [\n",
    "         [\n",
    "             [[3],[2],[1],[4]],\n",
    "             [[8],[1],[5],[9]],\n",
    "             [[6],[2],[-1],[7]],\n",
    "             [[-3],[4],[6],[5]]\n",
    "         ]\n",
    "     ]\n",
    "     ,tf.float32)\n",
    "# same最大值池化\n",
    "maxPool=tf.nn.max_pool(X,(1,2,3,1),[1,1,1,1],'SAME')\n",
    "session=tf.compat.v1.Session()\n",
    "print(session.run(conv))"
   ]
  },
  {
   "cell_type": "code",
   "execution_count": 14,
   "metadata": {},
   "outputs": [
    {
     "name": "stdout",
     "output_type": "stream",
     "text": [
      "[[[[ 28.  30.  91.  52.  71.  21.]\n",
      "   [ 15.  29.   5.  -8.   3.  -2.]]\n",
      "\n",
      "  [[ 60.  23.  71. -19. -20.  -8.]\n",
      "   [ 34.  29.  -1.  -5.  84.  -6.]]]]\n"
     ]
    }
   ],
   "source": [
    "#代码示例：8-9\n",
    "import tensorflow as tf\n",
    "X=tf.constant(\n",
    "     [\n",
    "         [\n",
    "             [[3,1],[-1,4],[3,2]],\n",
    "             [[9,7],[2,-1],[4,3]],\n",
    "             [[8,-2],[1,5],[5,9]]\n",
    "         ]\n",
    "     ]\n",
    "     ,tf.float32)\n",
    "\n",
    "# 多深度张量的same池化，2行2列2深度的邻域掩码\n",
    "maxPool=tf.nn.max_pool(X,(1,2,2,1),[1,2,2,1],'SAME')\n",
    "session=tf.compat.v1.Session()\n",
    "print(session.run(conv))"
   ]
  },
  {
   "cell_type": "code",
   "execution_count": 15,
   "metadata": {},
   "outputs": [
    {
     "name": "stdout",
     "output_type": "stream",
     "text": [
      "[[[[ 28.  30.  91.  52.  71.  21.]\n",
      "   [ 15.  29.   5.  -8.   3.  -2.]]\n",
      "\n",
      "  [[ 60.  23.  71. -19. -20.  -8.]\n",
      "   [ 34.  29.  -1.  -5.  84.  -6.]]]]\n"
     ]
    }
   ],
   "source": [
    "#代码示例：8-10\n",
    "import tensorflow as tf\n",
    "X=tf.constant(\n",
    "     [\n",
    "        [\n",
    "             [[2,5],[3,3],[8,2]],\n",
    "             [[6,1],[1,2],[5,4]],\n",
    "             [[7,9],[2,-3],[-1,3]]\n",
    "         ],\n",
    "         [\n",
    "             [[3,1],[-1,4],[3,2]],\n",
    "             [[9,7],[2,-1],[4,3]],\n",
    "             [[8,-2],[1,5],[5,9]]\n",
    "         ]\n",
    "     ]\n",
    "     ,tf.float32)\n",
    "# 多个三维张量的same最大值池化，2行2列2深度的邻域掩码\n",
    "maxPool=tf.nn.max_pool(X,(1,2,2,1),[1,2,2,1],'SAME')\n",
    "session=tf.compat.v1.Session()\n",
    "print(session.run(conv))"
   ]
  },
  {
   "cell_type": "code",
   "execution_count": 16,
   "metadata": {},
   "outputs": [
    {
     "name": "stdout",
     "output_type": "stream",
     "text": [
      "[[[[ 28.  30.  91.  52.  71.  21.]\n",
      "   [ 15.  29.   5.  -8.   3.  -2.]]\n",
      "\n",
      "  [[ 60.  23.  71. -19. -20.  -8.]\n",
      "   [ 34.  29.  -1.  -5.  84.  -6.]]]]\n"
     ]
    }
   ],
   "source": [
    "#代码示例：8-11\n",
    "import tensorflow as tf\n",
    "X=tf.constant(\n",
    "     [\n",
    "         [\n",
    "             [[3,1],[-1,4],[3,2]],\n",
    "             [[9,7],[2,-1],[4,3]],\n",
    "             [[8,-2],[1,5],[5,9]]\n",
    "         ]\n",
    "     ]\n",
    "     ,tf.float32)\n",
    "# same平均值池化，2行2列2深度的邻域掩码\n",
    "avgPool=tf.nn.avg_pool(X,(1,2,2,1),[1,2,2,1],'SAME')\n",
    "session=tf.compat.v1.Session()\n",
    "print(session.run(conv))"
   ]
  },
  {
   "cell_type": "code",
   "execution_count": 17,
   "metadata": {},
   "outputs": [
    {
     "name": "stdout",
     "output_type": "stream",
     "text": [
      "[[[[ 28.  30.  91.  52.  71.  21.]\n",
      "   [ 15.  29.   5.  -8.   3.  -2.]]\n",
      "\n",
      "  [[ 60.  23.  71. -19. -20.  -8.]\n",
      "   [ 34.  29.  -1.  -5.  84.  -6.]]]]\n"
     ]
    }
   ],
   "source": [
    "#代码示例8-12\n",
    "import tensorflow as tf\n",
    "X=tf.constant(\n",
    "     [\n",
    "         [\n",
    "             [[3],[2],[1],[4]],\n",
    "             [[8],[1],[5],[9]],\n",
    "             [[6],[2],[-1],[7]],\n",
    "             [[-3],[4],[6],[5]]\n",
    "         ]\n",
    "     ]\n",
    "     ,tf.float32)\n",
    "# valid最大值池化\n",
    "maxPool=tf.nn.max_pool(X,(1,2,2,1),[1,1,1,1],'VALID')\n",
    "session=tf.compat.v1.Session()\n",
    "print(session.run(conv))"
   ]
  },
  {
   "cell_type": "code",
   "execution_count": 18,
   "metadata": {},
   "outputs": [
    {
     "name": "stdout",
     "output_type": "stream",
     "text": [
      "[[[[ 28.  30.  91.  52.  71.  21.]\n",
      "   [ 15.  29.   5.  -8.   3.  -2.]]\n",
      "\n",
      "  [[ 60.  23.  71. -19. -20.  -8.]\n",
      "   [ 34.  29.  -1.  -5.  84.  -6.]]]]\n"
     ]
    }
   ],
   "source": [
    "#代码示例8-13\n",
    "import tensorflow as tf\n",
    "X=tf.constant(\n",
    "     [\n",
    "         [\n",
    "             [[3,1],[-1,4],[3,2]],\n",
    "             [[9,7],[2,-1],[4,3]],\n",
    "             [[8,-2],[1,5],[5,9]]\n",
    "         ]\n",
    "     ]\n",
    "     ,tf.float32)\n",
    "# 多深度张量的valid池化\n",
    "maxPool=tf.nn.max_pool(X,(1,2,2,1),[1,1,1,1],'VALID')\n",
    "session=tf.compat.v1.Session()\n",
    "print(session.run(conv))"
   ]
  },
  {
   "cell_type": "code",
   "execution_count": 19,
   "metadata": {},
   "outputs": [
    {
     "name": "stdout",
     "output_type": "stream",
     "text": [
      "[[[[ 28.  30.  91.  52.  71.  21.]\n",
      "   [ 15.  29.   5.  -8.   3.  -2.]]\n",
      "\n",
      "  [[ 60.  23.  71. -19. -20.  -8.]\n",
      "   [ 34.  29.  -1.  -5.  84.  -6.]]]]\n"
     ]
    }
   ],
   "source": [
    "#代码示例8-14\n",
    "import tensorflow as tf\n",
    "X=tf.constant(\n",
    "     [\n",
    "         [\n",
    "             [[3,1],[-1,4],[3,2]],\n",
    "             [[9,7],[2,-1],[4,3]],\n",
    "             [[8,-2],[1,5],[5,9]]\n",
    "         ],\n",
    "        [\n",
    "             [[1,4],[9,3],[1,1]],\n",
    "             [[1,1],[1,2],[3,3]],\n",
    "             [[2,1],[3,6],[4,2]]\n",
    "         ]\n",
    "\n",
    "     ]\n",
    "     ,tf.float32)\n",
    "# 多个三维张量的valid池化\n",
    "maxPool=tf.nn.max_pool(X,(1,2,2,1),[1,1,1,1],'VALID')\n",
    "session=tf.compat.v1.Session()\n",
    "print(session.run(conv))"
   ]
  },
  {
   "cell_type": "code",
   "execution_count": null,
   "metadata": {},
   "outputs": [],
   "source": []
  }
 ],
 "metadata": {
  "kernelspec": {
   "display_name": "Python 3",
   "language": "python",
   "name": "python3"
  },
  "language_info": {
   "codemirror_mode": {
    "name": "ipython",
    "version": 3
   },
   "file_extension": ".py",
   "mimetype": "text/x-python",
   "name": "python",
   "nbconvert_exporter": "python",
   "pygments_lexer": "ipython3",
   "version": "3.8.5"
  },
  "toc": {
   "base_numbering": 1,
   "nav_menu": {},
   "number_sections": true,
   "sideBar": true,
   "skip_h1_title": false,
   "title_cell": "Table of Contents",
   "title_sidebar": "Contents",
   "toc_cell": false,
   "toc_position": {},
   "toc_section_display": true,
   "toc_window_display": false
  }
 },
 "nbformat": 4,
 "nbformat_minor": 2
}
